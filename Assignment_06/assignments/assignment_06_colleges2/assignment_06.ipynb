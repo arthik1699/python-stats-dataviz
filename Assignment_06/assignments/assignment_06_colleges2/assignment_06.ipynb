{
  "nbformat": 4,
  "nbformat_minor": 0,
  "metadata": {
    "kernelspec": {
      "display_name": "Python 3",
      "language": "python",
      "name": "python3"
    },
    "language_info": {
      "codemirror_mode": {
        "name": "ipython",
        "version": 3
      },
      "file_extension": ".py",
      "mimetype": "text/x-python",
      "name": "python",
      "nbconvert_exporter": "python",
      "pygments_lexer": "ipython3",
      "version": "3.7.1"
    },
    "colab": {
      "name": "assignment_07.ipynb.txt",
      "provenance": [],
      "include_colab_link": true
    }
  },
  "cells": [
    {
      "cell_type": "markdown",
      "metadata": {
        "id": "view-in-github",
        "colab_type": "text"
      },
      "source": [
        "<a href=\"https://colab.research.google.com/github/arthik1699/python-stats-dataviz/blob/master/Assignment_06/assignments/assignment_06_colleges2/assignment_06.ipynb\" target=\"_parent\"><img src=\"https://colab.research.google.com/assets/colab-badge.svg\" alt=\"Open In Colab\"/></a>"
      ]
    },
    {
      "cell_type": "markdown",
      "metadata": {
        "id": "02rFSC_-6zKz"
      },
      "source": [
        "## Assignment 06\n",
        "### Note:\n",
        "- For visualization, you should use Matplotlib, seaborn, or Plotly Express \n",
        "- Use this notebook as your template and follow the instructions\n",
        "\n",
        "The first half of this assignment is similar to assignment 04.\n",
        "\n",
        "This gives you a chance to refresh.\n",
        "\n",
        "The second half is new and gives you a chance to perform additional practices.\n",
        "\n",
        "You also get a chance to use some of the Python libraries and techniques.\n",
        "\n",
        "The links to the zip file is:\n",
        "\n",
        "- https://collegescorecard.ed.gov/data (This web page contains the link to the zip file)\n",
        "\n",
        "- https://ed-public-download.app.cloud.gov/downloads/CollegeScorecard_Raw_Data_09012022.zip (The link to the zip file)\n",
        "\n",
        "You can run `!wget` command in Colab notebook to retrieve it directly, then run `!unzip` command to extract files (I have provided the cells to do so next for your convenience)\n",
        "\n",
        "Your folder structure should look like this in your Colab enviroment:\n",
        "\n",
        "- ...\n",
        "- 'MERGED1996_97_PP.csv',\n",
        "- 'MERGED2015_16_PP.csv',\n",
        "- ...\n",
        "- 'MERGED2017_18_PP.csv'\n",
        "- ...\n",
        "\n",
        "**Note: you should refresh the folder to see all files.**"
      ]
    },
    {
      "cell_type": "markdown",
      "source": [
        "## Step 1 - Retrieve the zip file"
      ],
      "metadata": {
        "id": "RemUiHBXf5EK"
      }
    },
    {
      "cell_type": "code",
      "metadata": {
        "id": "IlnBrYreEoY2"
      },
      "source": [
        "!wget https://ed-public-download.app.cloud.gov/downloads/CollegeScorecard_Raw_Data_09012022.zip"
      ],
      "execution_count": null,
      "outputs": []
    },
    {
      "cell_type": "markdown",
      "source": [
        "## Step 2 - Unzip the zip file"
      ],
      "metadata": {
        "id": "mY5iKlaef_E3"
      }
    },
    {
      "cell_type": "code",
      "metadata": {
        "id": "WXcix8Q4EWzN",
        "outputId": "3f913e38-f0e5-478e-9d94-777798fc45c1",
        "colab": {
          "base_uri": "https://localhost:8080/"
        }
      },
      "source": [
        "!unzip CollegeScorecard_Raw_Data_09012022.zip"
      ],
      "execution_count": null,
      "outputs": [
        {
          "metadata": {
            "tags": null
          },
          "name": "stdout",
          "output_type": "stream",
          "text": [
            "Archive:  CollegeScorecard_Raw_Data_09012022.zip\n",
            "replace Crosswalks.zip? [y]es, [n]o, [A]ll, [N]one, [r]ename: "
          ]
        }
      ]
    },
    {
      "cell_type": "markdown",
      "source": [
        "## Step 3 - Import Libraries"
      ],
      "metadata": {
        "id": "3gWAI-4_gCs2"
      }
    },
    {
      "cell_type": "code",
      "metadata": {
        "id": "CfSasSG36zK1"
      },
      "source": [
        "#(Write code below)\n",
        "import pandas as pd\n",
        "import os"
      ],
      "execution_count": null,
      "outputs": []
    },
    {
      "cell_type": "code",
      "source": [
        "# This is not a good practice. A lot of repetitions.\n",
        "# Not recommended\n",
        "\n",
        "df_2020 = pd.read_csv(\"/content/MERGED2020_21_PP.csv\", usecols=['UNITID', 'INSTNM', 'TUITIONFEE_IN'])\n",
        "df_2020[\"year\"] = 2020\n",
        "df_2019 = pd.read_csv(\"/content/MERGED2019_20_PP.csv\", usecols=['UNITID', 'INSTNM', 'TUITIONFEE_IN'])\n",
        "df_2019[\"year\"] = 2019\n",
        "df_2018 = pd.read_csv(\"/content/MERGED2018_19_PP.csv\", usecols=['UNITID', 'INSTNM', 'TUITIONFEE_IN'])\n",
        "df_2018[\"year\"] = 2018\n",
        "df_2017 = pd.read_csv(\"/content/MERGED2017_18_PP.csv\", usecols=['UNITID', 'INSTNM', 'TUITIONFEE_IN'])\n",
        "df_2017[\"year\"] = 2017\n",
        "df_2016 = pd.read_csv(\"/content/MERGED2016_17_PP.csv\", usecols=['UNITID', 'INSTNM', 'TUITIONFEE_IN'])\n",
        "df_2016[\"year\"] = 2016\n",
        "df_2015 = pd.read_csv(\"/content/MERGED2015_16_PP.csv\", usecols=['UNITID', 'INSTNM', 'TUITIONFEE_IN'])\n",
        "df_2015[\"year\"] = 2015\n",
        "df_2014 = pd.read_csv(\"/content/MERGED2014_15_PP.csv\", usecols=['UNITID', 'INSTNM', 'TUITIONFEE_IN'])\n",
        "df_2014[\"year\"] = 2014\n",
        "df_2013 = pd.read_csv(\"/content/MERGED2013_14_PP.csv\", usecols=['UNITID', 'INSTNM', 'TUITIONFEE_IN'])\n",
        "df_2013[\"year\"] = 2013\n",
        "df_2012 = pd.read_csv(\"/content/MERGED2012_13_PP.csv\", usecols=['UNITID', 'INSTNM', 'TUITIONFEE_IN'])\n",
        "df_2012[\"year\"] = 2012\n",
        "df_2011 = pd.read_csv(\"/content/MERGED2011_12_PP.csv\", usecols=['UNITID', 'INSTNM', 'TUITIONFEE_IN'])\n",
        "df_2011[\"year\"] = 2011\n",
        "df_2010 = pd.read_csv(\"/content/MERGED2010_11_PP.csv\", usecols=['UNITID', 'INSTNM', 'TUITIONFEE_IN'])\n",
        "df_2010[\"year\"] = 2010\n",
        "df_2009 = pd.read_csv(\"/content/MERGED2009_10_PP.csv\", usecols=['UNITID', 'INSTNM', 'TUITIONFEE_IN'])\n",
        "df_2009[\"year\"] = 2009\n",
        "df_2008 = pd.read_csv(\"/content/MERGED2008_09_PP.csv\", usecols=['UNITID', 'INSTNM', 'TUITIONFEE_IN'])\n",
        "df_2008[\"year\"] = 2008\n",
        "df_2007 = pd.read_csv(\"/content/MERGED2007_08_PP.csv\", usecols=['UNITID', 'INSTNM', 'TUITIONFEE_IN'])\n",
        "df_2007[\"year\"] = 2007\n",
        "df_2006 = pd.read_csv(\"/content/MERGED2006_07_PP.csv\", usecols=['UNITID', 'INSTNM', 'TUITIONFEE_IN'])\n",
        "df_2006[\"year\"] = 2006\n",
        "df_2005 = pd.read_csv(\"/content/MERGED2005_06_PP.csv\", usecols=['UNITID', 'INSTNM', 'TUITIONFEE_IN'])\n",
        "df_2005[\"year\"] = 2005\n",
        "df_2004 = pd.read_csv(\"/content/MERGED2004_05_PP.csv\", usecols=['UNITID', 'INSTNM', 'TUITIONFEE_IN'])\n",
        "df_2004[\"year\"] = 2004\n",
        "df_2003 = pd.read_csv(\"/content/MERGED2003_04_PP.csv\", usecols=['UNITID', 'INSTNM', 'TUITIONFEE_IN'])\n",
        "df_2003[\"year\"] = 2003\n",
        "df_2002 = pd.read_csv(\"/content/MERGED2002_03_PP.csv\", usecols=['UNITID', 'INSTNM', 'TUITIONFEE_IN'])\n",
        "df_2002[\"year\"] = 2002\n",
        "df_2001 = pd.read_csv(\"/content/MERGED2001_02_PP.csv\", usecols=['UNITID', 'INSTNM', 'TUITIONFEE_IN'])\n",
        "df_2001[\"year\"] = 2001\n",
        "df_2000 = pd.read_csv(\"/content/MERGED2000_01_PP.csv\", usecols=['UNITID', 'INSTNM', 'TUITIONFEE_IN'])\n",
        "df_2000[\"year\"] = 2000\n",
        "df_1999 = pd.read_csv(\"/content/MERGED1999_00_PP.csv\", usecols=['UNITID', 'INSTNM', 'TUITIONFEE_IN'])\n",
        "df_1999[\"year\"] = 1999\n",
        "df_1998 = pd.read_csv(\"/content/MERGED1998_99_PP.csv\", usecols=['UNITID', 'INSTNM', 'TUITIONFEE_IN'])\n",
        "df_1998[\"year\"] = 1998\n",
        "df_1997 = pd.read_csv(\"/content/MERGED1997_98_PP.csv\", usecols=['UNITID', 'INSTNM', 'TUITIONFEE_IN'])\n",
        "df_1997[\"year\"] = 1997\n",
        "df_1996 = pd.read_csv(\"/content/MERGED1996_97_PP.csv\", usecols=['UNITID', 'INSTNM', 'TUITIONFEE_IN'])\n",
        "df_1996[\"year\"] = 1996\n",
        "\n",
        "\n",
        "#.... (more code)\n",
        "# df_2020 = pd.read_csv(\"/content/MERGED2020_21_PP.csv\")\n",
        "# df_all = pd.concat([df_1996, df_1997, ...., df_2020])\n",
        "df_all = pd.concat([df_2020, df_2019, df_2018, df_2017, df_2018, df_2017, df_2016, df_2015, df_2014, df_2013, df_2012, df_2011, df_2010, df_2009, df_2008, df_2007, df_2006, df_2005, df_2004, df_2003, df_2002, df_2001, df_2000, df_1999, df_1998, df_1997, df_1996])\n",
        "\n",
        "df_all.sample(10)"
      ],
      "metadata": {
        "id": "iMpA2gPdub69"
      },
      "execution_count": null,
      "outputs": []
    },
    {
      "cell_type": "markdown",
      "source": [
        "## Step 4 - Display the current working directory using os.getcwd()\n",
        "\n",
        "You would need to import a standard Python library called os which stands for operating system. so place that import statement in the previous cell. Since your notebook and your data files may or may not in the same folder, you want to make sure what the current working folder is and how to access a data file in a different folder."
      ],
      "metadata": {
        "id": "zNVWs_R9gKrr"
      }
    },
    {
      "cell_type": "code",
      "metadata": {
        "id": "duwKxi1L6zK5"
      },
      "source": [
        "#(Write code below)\n",
        "os.getcwd()"
      ],
      "execution_count": null,
      "outputs": []
    },
    {
      "cell_type": "markdown",
      "source": [
        "## Step 5 - Get the list of file names\n",
        "\n",
        "os library has a method call listdir which generates a list of files in a directory/folder. Use this method to assign the contents (list of file names) of the data folder to a variable and display it. If necessary, you can use ../ construct to traverse to the parent folder and then to another foloder parallel to the current folder\n"
      ],
      "metadata": {
        "id": "SxFHpsKSgxzv"
      }
    },
    {
      "cell_type": "code",
      "metadata": {
        "id": "LMBN0HsY6zLA"
      },
      "source": [
        "#(Write code below)\n",
        "name_list = os.listdir()\n",
        "name_list"
      ],
      "execution_count": null,
      "outputs": []
    },
    {
      "cell_type": "markdown",
      "source": [
        "## Step 6 - Process only the yearly data files\n",
        "\n",
        "The folder contains files that are not the yearly data files. Write code to remove the unwanted files from the list variable.\n",
        "\n",
        "Note: don't remove/delete these files from the folder in the folder.\n",
        "For example, use the file extension to only use the csv files or use the name patter - data file name begins with \"MERGED\". You can use the concept of list comprehension to write just *one* line of code as well as using a for loop, your choice."
      ],
      "metadata": {
        "id": "XtKgf-SMhL0z"
      }
    },
    {
      "cell_type": "code",
      "metadata": {
        "id": "UCDRqtrf6zLL"
      },
      "source": [
        "#(Write code below)\n",
        "# using loop\n",
        "x = [1,3,6,8]\n",
        "y = []\n",
        "for num in x:\n",
        "    y.append(num ** 2)\n",
        "\n",
        "y"
      ],
      "execution_count": null,
      "outputs": []
    },
    {
      "cell_type": "code",
      "source": [
        "# using loop with condition\n",
        "x = [1,3,6,8]\n",
        "y = []\n",
        "\n",
        "for num in x:\n",
        "    if num % 2 == 0:\n",
        "       y.append(num ** 2)\n",
        "\n",
        "y"
      ],
      "metadata": {
        "id": "OsTZMRfjzpwB"
      },
      "execution_count": null,
      "outputs": []
    },
    {
      "cell_type": "code",
      "source": [
        "# using List comprehension\n",
        "y = [num **2 for num in x]\n",
        "y"
      ],
      "metadata": {
        "id": "5eISR8FjyzyH"
      },
      "execution_count": null,
      "outputs": []
    },
    {
      "cell_type": "code",
      "source": [
        "# using List comprehension with condition\n",
        "y = [num **2 for num in x if num % 2 == 0]\n",
        "y"
      ],
      "metadata": {
        "id": "B6k0ES8GzZQ8"
      },
      "execution_count": null,
      "outputs": []
    },
    {
      "cell_type": "code",
      "source": [
        "yearly_list = [file_name for file_name in name_list if file_name.startswith(\"MERGED\")]\n",
        "\n",
        "yearly_list"
      ],
      "metadata": {
        "id": "j08cIjcf0ZCw"
      },
      "execution_count": null,
      "outputs": []
    },
    {
      "cell_type": "markdown",
      "source": [
        "## Step 7 - Load data files\n",
        " \n",
        "Now that you have a clean list of the yearly files, you want to loop through them and read them into a dataframe one at a time. You only load six columns: [\"UNITID\", \"INSTNM\", \"STABBR\", \"REGION\", \"ADM_RATE\", \"TUITIONFEE_IN\"].\n",
        "\n",
        "You should use \"usecols\" option of Pandas to avoid reading unwanted columns. You also want to add a new column call \"YEAR\" to differentiate the data frames from each other. The YEAR variable should be yyyy format so tht you can convert them into integer. If you use the format yyyy-yy (such as 1997-98 school year), you will not be able to convert them directly to integer. If you use scatter plot, the YEAR needs to be converted to integer or float. \n",
        "\n",
        "You would use an empty list and append the yearly dataframes to the list. After all data files are loaded and appended to the list, you would use Pandas to concatenate them into a new single data frame.\n",
        "\n",
        "Note: this exercise incorporates many techques we learned before:\n",
        "\n",
        "- list (creating an empty, append an item to the list)\n",
        "- for loop \n",
        "- read only the needed columns from a file (using usecols option)\n",
        "- add a new column to a data frame\n",
        "- concatenate multiple dataframes into a single one\n",
        "\n",
        "This exercise may appear challenging but it worths the effort. You will learn a lot and love it. I promise."
      ],
      "metadata": {
        "id": "UbrfZBRThtG8"
      }
    },
    {
      "cell_type": "code",
      "source": [
        "x = \"MERGED2020_21_PP.csv\"\n",
        "\n",
        "x[6:10]"
      ],
      "metadata": {
        "id": "4JleOHyl2QP6"
      },
      "execution_count": null,
      "outputs": []
    },
    {
      "cell_type": "code",
      "metadata": {
        "id": "rtrB8C_R6zLS"
      },
      "source": [
        "#(Write code here)\n",
        "\n",
        "# df_all = pd.DataFrame()  this empty dataframe does not work for the append method.\n",
        "\n",
        "yearly_list.sort()\n",
        "\n",
        "print(\"processing file\", yearly_list[0])\n",
        "df_all = pd.read_csv(\"/content/\" + yearly_list[0], usecols=['UNITID', 'INSTNM', 'TUITIONFEE_IN'])\n",
        "df_all[\"year\"] = yearly_list[0][6:10]\n",
        "print(df_all.shape)\n",
        "\n",
        "for yearly_file in yearly_list[1:]:\n",
        "    print(\"processing file\", yearly_file)\n",
        "    df = pd.read_csv(\"/content/\" + yearly_file, usecols=['UNITID', 'INSTNM', 'TUITIONFEE_IN'])\n",
        "    df[\"year\"] = yearly_file[6:10]\n",
        "    df_all = df_all.append(df, ignore_index = True)\n",
        "    print(df_all.shape)\n",
        "\n"
      ],
      "execution_count": null,
      "outputs": []
    },
    {
      "cell_type": "code",
      "source": [
        "df_all.sample(10)"
      ],
      "metadata": {
        "id": "RRT2MkA26gkL"
      },
      "execution_count": null,
      "outputs": []
    },
    {
      "cell_type": "markdown",
      "source": [
        "## Step 8 - Explore the new dataframe \n",
        "\n",
        "For example, # of observations, varibles, head, tail, sample, missing values, statistics, etc."
      ],
      "metadata": {
        "id": "M-OsDFXFiZd-"
      }
    },
    {
      "cell_type": "code",
      "metadata": {
        "id": "riJxj3vU6zLY"
      },
      "source": [
        "#(Write code here)\n",
        "#to find number of observations\n",
        "print(\"Number of Observations\")\n",
        "df_all.count()\n"
      ],
      "execution_count": null,
      "outputs": []
    },
    {
      "cell_type": "code",
      "source": [
        "#to find number of variables\n",
        "print(\"Number of Variables\")\n",
        "df_all.value_counts()"
      ],
      "metadata": {
        "id": "Ex9ngkU6g-Tb"
      },
      "execution_count": null,
      "outputs": []
    },
    {
      "cell_type": "code",
      "source": [
        "df_all.head()"
      ],
      "metadata": {
        "id": "H-xT-d94iXoE"
      },
      "execution_count": null,
      "outputs": []
    },
    {
      "cell_type": "code",
      "source": [
        "df_all.tail()"
      ],
      "metadata": {
        "id": "VVXwwjq8idFL"
      },
      "execution_count": null,
      "outputs": []
    },
    {
      "cell_type": "code",
      "source": [
        "df_all.sample(5)"
      ],
      "metadata": {
        "id": "ssUmjvQHiiFp"
      },
      "execution_count": null,
      "outputs": []
    },
    {
      "cell_type": "code",
      "source": [
        "df_all.isnull()"
      ],
      "metadata": {
        "id": "50Mt1pAJiuLv"
      },
      "execution_count": null,
      "outputs": []
    },
    {
      "cell_type": "code",
      "source": [
        "df_2 = df_all[[\"TUITIONFEE_IN\"]]\n",
        "df_2\n",
        "print(\"sum : \", df_2.sum())\n",
        "print(\"maximum\", df_2.max())\n",
        "print(\"minimum\", df_2.min())\n",
        "print(\"variance\", df_2.var())\n",
        "print(\"standard deviation\", df_2.std())\n"
      ],
      "metadata": {
        "id": "QHW-wz_Nwqjr"
      },
      "execution_count": null,
      "outputs": []
    },
    {
      "cell_type": "markdown",
      "source": [
        "## Step 9 - UMBC \n",
        "\n",
        "The dataframe contains many years of data of all U.S. colleges. let's just look at UMBC. Filter/query the dataframe to retrieve only rows that belong to UMBC (one row represent one year). Save the UMNC data to a new data frame. using a new variable for the UMBC data frame, so that the old big data frame is still available for later use."
      ],
      "metadata": {
        "id": "odf117B-ip7D"
      }
    },
    {
      "cell_type": "code",
      "metadata": {
        "id": "NQjKoDmU6zLd"
      },
      "source": [
        "#(Write code here)\n",
        "df_3 = df_all[df_all[\"INSTNM\"].str.contains(\"University of Maryland-Baltimore County\")]\n",
        "df_3"
      ],
      "execution_count": null,
      "outputs": []
    },
    {
      "cell_type": "markdown",
      "source": [
        "## Step 10 - Explore the new dataframe\n",
        "\n",
        "For example, # of observations, varibles, head, tail, sample, missing values, statistics, etc"
      ],
      "metadata": {
        "id": "JEwabb0PjCmT"
      }
    },
    {
      "cell_type": "code",
      "metadata": {
        "id": "d5X87ugp6zLt"
      },
      "source": [
        "#(Write code here)\n",
        "print(\"Number of Observations : \")\n",
        "df_3.count()\n",
        "\n"
      ],
      "execution_count": null,
      "outputs": []
    },
    {
      "cell_type": "code",
      "source": [
        "print(\"Number of Variables :\")\n",
        "df_3.value_counts()"
      ],
      "metadata": {
        "id": "usmlptyv2fXc"
      },
      "execution_count": null,
      "outputs": []
    },
    {
      "cell_type": "code",
      "source": [
        "df_3.head()"
      ],
      "metadata": {
        "id": "z4OPmIg823hc"
      },
      "execution_count": null,
      "outputs": []
    },
    {
      "cell_type": "code",
      "source": [
        "df_3.tail()"
      ],
      "metadata": {
        "id": "UhqpDmFF27DM"
      },
      "execution_count": null,
      "outputs": []
    },
    {
      "cell_type": "code",
      "source": [
        "df_3.sample(5)"
      ],
      "metadata": {
        "id": "gkQP3uon2-Ic"
      },
      "execution_count": null,
      "outputs": []
    },
    {
      "cell_type": "code",
      "source": [
        "df_3.isnull()"
      ],
      "metadata": {
        "id": "1FjSxuKg3FQm"
      },
      "execution_count": null,
      "outputs": []
    },
    {
      "cell_type": "code",
      "source": [
        "print(\"sum\", df_3[[\"TUITIONFEE_IN\"]].sum())\n",
        "print(\"minimum\", df_3[[\"TUITIONFEE_IN\"]].min())\n",
        "print(\"maximum\", df_3[[\"TUITIONFEE_IN\"]].max())\n",
        "print(\"variance\", df_3[[\"TUITIONFEE_IN\"]].var())\n",
        "print(\"standard deviation\", df_3[[\"TUITIONFEE_IN\"]].std())"
      ],
      "metadata": {
        "id": "ZkrvGgeF3Qej"
      },
      "execution_count": null,
      "outputs": []
    },
    {
      "cell_type": "markdown",
      "source": [
        "## Step 11 - Plot UMBC's in-state tuition overtime Bar Chart"
      ],
      "metadata": {
        "id": "yhkk1v-KjNu-"
      }
    },
    {
      "cell_type": "code",
      "metadata": {
        "id": "5Poy4ciz6zLy"
      },
      "source": [
        "#(Write code here)\n",
        "from matplotlib import pyplot as plt\n",
        "tution_fee = df_3[\"TUITIONFEE_IN\"].head(10)\n",
        "year = df_3[\"year\"].head(10)\n",
        "\n",
        "fig = plt.figure(figsize =(10, 7))\n",
        "\n",
        "plt.bar(year,tution_fee)\n",
        "\n",
        "plt.xlabel(\"years\")\n",
        "plt.ylabel(\"tution_fees\")\n",
        "plt.title(\"In-State tution fees overtime Bar Chart\")\n",
        "plt.show()\n"
      ],
      "execution_count": null,
      "outputs": []
    },
    {
      "cell_type": "markdown",
      "source": [
        "## Step 12 - Plot UMBC's in-state tuition overtime using line Chart"
      ],
      "metadata": {
        "id": "85qFArw4jXnP"
      }
    },
    {
      "cell_type": "code",
      "metadata": {
        "id": "afOQjc1w6zL4"
      },
      "source": [
        "#(Write code here)\n",
        "tution_fee = df_3[\"TUITIONFEE_IN\"].head(10)\n",
        "year = df_3[\"year\"].head(10)\n",
        "\n",
        "fig = plt.figure(figsize =(10, 7))\n",
        "\n",
        "plt.plot(year,tution_fee)\n",
        "\n",
        "plt.xlabel(\"years\")\n",
        "plt.ylabel(\"tution_fees\")\n",
        "plt.title(\"In-State tution fees overtime Bar Chart\")\n",
        "plt.show()\n"
      ],
      "execution_count": null,
      "outputs": []
    },
    {
      "cell_type": "markdown",
      "source": [
        "## Step 13 - Tuition Growth Rate\n",
        "\n",
        "Now let's look at the tuition growth rate year over year. We need to calculate UMBC tuition change percentage each year. First convert the TUITIONFEE_IN column to a Python List"
      ],
      "metadata": {
        "id": "5FH2h2_ajlKE"
      }
    },
    {
      "cell_type": "code",
      "metadata": {
        "id": "xQLB2f7J6zL-"
      },
      "source": [
        "#(Write code here)\n",
        "tution_list = df_3[\"TUITIONFEE_IN\"].to_list()\n",
        "print(tution_list)\n"
      ],
      "execution_count": null,
      "outputs": []
    },
    {
      "cell_type": "markdown",
      "source": [
        "## Step 14 - Loop through the list and calculate the % change each year over the prior year\n",
        "\n",
        "This takes some effort. Not hard, just some abstract/logical thinking and some experiments. Have fun on this one."
      ],
      "metadata": {
        "id": "e4OhAzjlj3tw"
      }
    },
    {
      "cell_type": "code",
      "metadata": {
        "id": "LRUyQCtJ6zMB"
      },
      "source": [
        " #(Write code here)\n",
        " dup_list=[]\n",
        " a = len(tution_list)\n",
        " print(a)\n",
        " for i in range(0,len(tution_list)-1):\n",
        "   diff = 0\n",
        "   perc = 0\n",
        "   diff = (tution_list[i+1] - tution_list[i])/tution_list[i]\n",
        "   perc = diff*100\n",
        "   dup_list.append(perc)\n",
        "\n",
        "print(dup_list)\n",
        "print(len(dup_list))\n",
        "\n",
        "\n",
        "\n"
      ],
      "execution_count": null,
      "outputs": []
    },
    {
      "cell_type": "markdown",
      "source": [
        "## Step 15 - Round up the percentage to two decimal points\n",
        "\n",
        "The resulting number has many decimal points which are unnecessary and not visually appealing. You can use for loop. Or better, use list comprehension for simplicity/brevity."
      ],
      "metadata": {
        "id": "vLogjxM1kSDH"
      }
    },
    {
      "cell_type": "code",
      "metadata": {
        "id": "9sxMk1hc6zML"
      },
      "source": [
        "#(Write code here)\n",
        "new_list = [round(i,2) for i in dup_list]\n",
        "print(len(new_list))\n",
        "print(new_list)"
      ],
      "execution_count": null,
      "outputs": []
    },
    {
      "cell_type": "markdown",
      "source": [
        "## Step 16 - Add the list of the percentages to the dataframe as a new column (\"PCT_CHANGE\")\n",
        "\n",
        "Not as hard as you may think. If you get stuck, you think too hard. Google it and you will find the answer."
      ],
      "metadata": {
        "id": "cWK8vDitkLpx"
      }
    },
    {
      "cell_type": "code",
      "metadata": {
        "id": "_04rVaZ16zMR"
      },
      "source": [
        "#(Write code here)\n",
        "df_3.insert(loc = 4,column=\"PCT_CHANGE\",new_list)\n",
        "df_3"
      ],
      "execution_count": null,
      "outputs": []
    },
    {
      "cell_type": "markdown",
      "source": [
        "## Step 17 - Finaly, we can make the plot tuition growth rate year over year - bar first, then line chart"
      ],
      "metadata": {
        "id": "aVcm3NltknpE"
      }
    },
    {
      "cell_type": "code",
      "metadata": {
        "id": "5Evbjx-g6zMX"
      },
      "source": [
        "# (write code here)\n",
        "\n"
      ],
      "execution_count": null,
      "outputs": []
    },
    {
      "cell_type": "markdown",
      "source": [
        "## Step 18 - Define Growth Rate Function\n",
        "\n",
        "Since we want to do the same calculation for JHU. Instead of doing it piecemeal as we did for UMBC. Let's create a function which can be reused for any college. This function takes a list of tuitions and return a list of percentage changes year over year. This function can be used later."
      ],
      "metadata": {
        "id": "V1TiCardmjU2"
      }
    },
    {
      "cell_type": "code",
      "metadata": {
        "id": "eCqEe_646zMc"
      },
      "source": [
        "#(Write code here)\n",
        "\n",
        " "
      ],
      "execution_count": null,
      "outputs": []
    },
    {
      "cell_type": "markdown",
      "source": [
        "## Step 19 - Get JHU Data\n",
        "\n",
        "The dataframe contains many years of data of all U.S. colleges. Let's just look at JHU. Filter/query the dataframe to retrieve only rows that belong to JHU. Save the JHU data to a new data frame using a new variable so that the old big data frame is still available for later use."
      ],
      "metadata": {
        "id": "U2jqd5GYmy3Z"
      }
    },
    {
      "cell_type": "code",
      "metadata": {
        "id": "f2mhYOjV6zMj"
      },
      "source": [
        "#(Write code here)\n"
      ],
      "execution_count": null,
      "outputs": []
    },
    {
      "cell_type": "markdown",
      "source": [
        "## Step 20 - Plot JHU's in-state tuition overtime\n",
        "\n",
        "Let's plot bar and then line chart."
      ],
      "metadata": {
        "id": "VkyEUa6mnKgD"
      }
    },
    {
      "cell_type": "code",
      "metadata": {
        "id": "wGXcNTJ46zMo"
      },
      "source": [
        "# <14> \n",
        "# Plot JHU's in-state tuition overtime from 1996 to 2019. \n",
        "# Let's plot bar and line chart together\n",
        "\n",
        "#(Write code here)\n",
        "\n"
      ],
      "execution_count": null,
      "outputs": []
    },
    {
      "cell_type": "markdown",
      "source": [
        "## Step 21 - Calculate Tuition Growth Rate using the Function defined earlier\n"
      ],
      "metadata": {
        "id": "wNn0AXexnsxq"
      }
    },
    {
      "cell_type": "code",
      "source": [
        "# Write code here"
      ],
      "metadata": {
        "id": "q5xcRlLMn4Ap"
      },
      "execution_count": null,
      "outputs": []
    },
    {
      "cell_type": "markdown",
      "source": [
        "## Step 22 - Add the list of percentage changes to the dataframe as a new column (\"PCT_CHANGE\")"
      ],
      "metadata": {
        "id": "HSPcfvsGn8MG"
      }
    },
    {
      "cell_type": "code",
      "metadata": {
        "id": "7KM74FQH6zM4"
      },
      "source": [
        "#(Write code here)\n",
        "\n"
      ],
      "execution_count": null,
      "outputs": []
    },
    {
      "cell_type": "markdown",
      "source": [
        "## Step 23 - Plot the JHU percentage changes tuitions over time\n",
        "\n",
        "Bar plot first, then line plot."
      ],
      "metadata": {
        "id": "LPei7NtpoFFb"
      }
    },
    {
      "cell_type": "code",
      "metadata": {
        "id": "vGi8YI_A6zM7"
      },
      "source": [
        "#(Write code here)\n",
        "\n"
      ],
      "execution_count": null,
      "outputs": []
    },
    {
      "cell_type": "markdown",
      "source": [
        "## Step 24 - Compare UMBC and JHU \n",
        "\n",
        "In order to plot both UMBC and JHU tuition change over time in the same plot, we need to combine the two datasets using the common key of YEAR. \n",
        "\n",
        "First make a umbc2 dataframe with only two columns needed. We don't need other columns. Also change the column name from \"PCT_CHANGE\" to \"UMBC_PCT\" in preparation for the merge. This is because both umbc and jhu dataframe have the same column name \"PCT_CHANGE\", we rename them to there is no collision during the merge. BTW, Pandas handles collision gracefully, Feel free to try it without changing the column names."
      ],
      "metadata": {
        "id": "CBHqIJBcoXv-"
      }
    },
    {
      "cell_type": "code",
      "metadata": {
        "id": "bGYYULq16zNA"
      },
      "source": [
        "#(Write code here)\n",
        "\n"
      ],
      "execution_count": null,
      "outputs": []
    },
    {
      "cell_type": "markdown",
      "source": [
        "## Step 25 \n",
        "\n",
        "Then make a jhu2 dataframe with only two columns needed. WE don't need other columns. Also change the column name from \"PCT_CHANGE\" to \"JHU_PCT\"  in preparation for the merge"
      ],
      "metadata": {
        "id": "W23PSBYmozzi"
      }
    },
    {
      "cell_type": "code",
      "metadata": {
        "id": "DX95nFyG6zNF"
      },
      "source": [
        "#(Write code here)\n",
        "\n"
      ],
      "execution_count": null,
      "outputs": []
    },
    {
      "cell_type": "markdown",
      "source": [
        "## Step 26 - Merger the two data frames and display the new dataframe"
      ],
      "metadata": {
        "id": "Q19tgEntpBsD"
      }
    },
    {
      "cell_type": "code",
      "metadata": {
        "id": "LJ_6wKKU6zNL"
      },
      "source": [
        "#(Write code here)\n",
        "\n"
      ],
      "execution_count": null,
      "outputs": []
    },
    {
      "cell_type": "markdown",
      "source": [
        "## Step 27 - Plot UMBC and JHU separately on the same line plot "
      ],
      "metadata": {
        "id": "dWdOJl19pXud"
      }
    },
    {
      "cell_type": "markdown",
      "source": [],
      "metadata": {
        "id": "hyClyzNepVrH"
      }
    },
    {
      "cell_type": "code",
      "metadata": {
        "id": "Ng3bbP076zNW"
      },
      "source": [
        "#(Write code here)\n",
        "\n"
      ],
      "execution_count": null,
      "outputs": []
    },
    {
      "cell_type": "code",
      "metadata": {
        "id": "6YNmMkgW6zNv"
      },
      "source": [],
      "execution_count": null,
      "outputs": []
    },
    {
      "cell_type": "markdown",
      "source": [
        "## Step 28 - Document your observation of the comparison plots using the following Markdown cell"
      ],
      "metadata": {
        "id": "Pw6GMGUwpjz6"
      }
    },
    {
      "cell_type": "markdown",
      "metadata": {
        "id": "tzeP_v8E6zNz"
      },
      "source": [
        "#### Based on my observation of the plots\n",
        "#### blah, blah \n",
        "#### blah, blah\n",
        "#### ...\n",
        "#### blah, blah"
      ]
    },
    {
      "cell_type": "code",
      "metadata": {
        "id": "njPmmLLA6zN0"
      },
      "source": [
        "# The end."
      ],
      "execution_count": null,
      "outputs": []
    }
  ]
}